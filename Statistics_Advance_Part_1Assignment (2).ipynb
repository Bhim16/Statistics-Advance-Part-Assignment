{
  "nbformat": 4,
  "nbformat_minor": 0,
  "metadata": {
    "colab": {
      "provenance": []
    },
    "kernelspec": {
      "name": "python3",
      "display_name": "Python 3"
    },
    "language_info": {
      "name": "python"
    }
  },
  "cells": [
    {
      "cell_type": "markdown",
      "source": [
        "# What is a random variable in probability theory\n",
        "The  random variable is a function that assigns a numerical value to each outcome of a random experiment."
      ],
      "metadata": {
        "id": "VY3zG4W23CSw"
      }
    },
    {
      "cell_type": "markdown",
      "source": [
        "# What are the types of random variables\n",
        "The random variables are broadly classified into two main types discrete and continuous."
      ],
      "metadata": {
        "id": "A2b4Bdoq3OJO"
      }
    },
    {
      "cell_type": "markdown",
      "source": [
        "# What is the difference between discrete and continuous distributions\n",
        "The main difference between discrete and continuous distributions lies in the nature of the variable they describe  discrete variables can only take on a finite or countable set of values  while continuous variables can take on any value within a specified range."
      ],
      "metadata": {
        "id": "916d7MyW3VZ_"
      }
    },
    {
      "cell_type": "markdown",
      "source": [
        "# What are probability distribution functions (PDF)\n",
        "A probability distribution is a mathematical function that describes the probability of different possible values of a variable. Probability distributions are often depicted using graphs or probability tables\n",
        "\n",
        " ."
      ],
      "metadata": {
        "id": "KlPPh-Lm3Y5o"
      }
    },
    {
      "cell_type": "markdown",
      "source": [
        "# How do cumulative distribution functions (CDF) differ from probability distribution functions (PDF)\n",
        " the cumulative distribution function (CDF) and probability distribution function (PDF) describe different aspects of a random variable probability distribution. The PDF provides the probability of a random variable taking a specific value while the CDF provides the probability of the random variable being less than or equal to a certain value."
      ],
      "metadata": {
        "id": "S47lhnQX3dL8"
      }
    },
    {
      "cell_type": "markdown",
      "source": [
        "# :# What is a discrete uniform distribution\n",
        "the discrete uniform distribution is a symmetric probability distribution wherein each of some finite whole number n of outcome values are equally likely to be observed."
      ],
      "metadata": {
        "id": "Q_XjY9yd3gUi"
      }
    },
    {
      "cell_type": "markdown",
      "source": [
        "# What are the key properties of a Bernoulli distribution\n",
        "The key properties of a Bernoulli distribution are its binary nature is success or failure  fixed probability of success and independence of trials. A Bernoulli random variable can only take on the values 0 or 1. representing failure or success respectively."
      ],
      "metadata": {
        "id": "3_qtyIUR3iJX"
      }
    },
    {
      "cell_type": "markdown",
      "source": [
        "# What is the binomial distribution, and how is it used in probability\n",
        " The binomial distribution is a probability distribution that\n",
        " models the likelihood of a certain number of successes in a fixed number of independent trials. where each trial has only two possible outcomes success or failure.It used to calculate probabilities in situations like coin tosses multiple-choice questions or quality control checks where each event has a binary outcom"
      ],
      "metadata": {
        "id": "BZTSmfSC3lDg"
      }
    },
    {
      "cell_type": "markdown",
      "source": [
        "# What is the Poisson distribution and where is it applied\n",
        "The Poisson distribution is a discrete probability distribution that describes the probability of a certain number of events occurring within a fixed interval of time or space given that these events happen independently at a constant average rate."
      ],
      "metadata": {
        "id": "LrmV-T_93p17"
      }
    },
    {
      "cell_type": "markdown",
      "source": [
        "# What is a continuous uniform distribution\n",
        "The continuous uniform distribution is such that the random variable X takes values between a (lower limit) and b (upper limit)."
      ],
      "metadata": {
        "id": "1jQmPSrn3sUy"
      }
    },
    {
      "cell_type": "markdown",
      "source": [
        "# What are the characteristics of a normal distribution\n",
        "A normal distribution also known as a Gaussian distribution is characterized by its bell shaped curve or symmetry and the equality of mean or medianor and mode."
      ],
      "metadata": {
        "id": "cmnRhJKF3xL8"
      }
    },
    {
      "cell_type": "markdown",
      "source": [
        "# What is the standard normal distribution, and why is it important\n",
        "The standard normal distribution is a specific type of normal distribution with a mean of 0 and a standard deviation of 1. It crucial because it allows us to standardize any normal distribution  making it easier to calculate probabilities and compare data from different distribution."
      ],
      "metadata": {
        "id": "NqdGlWdW30Cs"
      }
    },
    {
      "cell_type": "markdown",
      "source": [
        "# What is the Central Limit Theorem (CLT), and why is it critical in statistics\n",
        "The central limit theorem is critical because it allows statisticians to use the normal distribution for inferences even when the underlying data is not normally distributed."
      ],
      "metadata": {
        "id": "LmJg9-0R31vx"
      }
    },
    {
      "cell_type": "markdown",
      "source": [
        "# How does the Central Limit Theorem relate to the normal distribution\n",
        "The Central Limit Theorem (CLT) essentially provides the link between the normal distribution and the distribution of sample means. It states that the distribution of sample means will be approximately normally distributed regardless of the original population distribution as the sample size increases."
      ],
      "metadata": {
        "id": "rnnu0e9_36xl"
      }
    },
    {
      "cell_type": "markdown",
      "source": [
        "# What is the application of Z statistics in hypothesis testing\n",
        "hypothesis testing, Z-statistics are used to determine if there is a statistically significant difference between a sample mean and a population mean, or between the means of two groups."
      ],
      "metadata": {
        "id": "9R1_uD3z38Po"
      }
    },
    {
      "cell_type": "markdown",
      "source": [
        "# How do you calculate a Z-score, and what does it represent\n",
        "z-score calculates how many standard deviations a data point is away from the mean of a dataset. The formula is: z = (x - μ) / σ, where x is the data point μ is the population mean and σ is the population standard deviation. A z-score represents the standardized value of a data point indicating its position relative to the mean within a distribution.\n",
        " z-score formula: z = (x - μ) / σ."
      ],
      "metadata": {
        "id": "nN0cc7Br4C99"
      }
    },
    {
      "cell_type": "markdown",
      "source": [
        "# What are point estimates and interval estimates in statistics\n",
        "statistics, a point estimate is a single value used to estimate an unknown population parameter, while an interval estimate provides a range of values within which the population parameter is likely to lie."
      ],
      "metadata": {
        "id": "tTvWkaq34Gqa"
      }
    },
    {
      "cell_type": "markdown",
      "source": [
        "# What is the significance of confidence intervals in statistical analysis\n",
        "Confidence intervals are crucial in statistical analysis as they provide a range of plausible values for an unknown population parameter helping to estimate the true value with a certain level of confidence. They offer more comprehensive information than p-values alone giving insights into the precision of estimates and the potential for significant differences"
      ],
      "metadata": {
        "id": "p4mC-ab14KZY"
      }
    },
    {
      "cell_type": "markdown",
      "source": [
        "# What is the relationship between a Z-score and a confidence interval\n",
        "A z-score, also known as the z-value, is a critical component in calculating confidence intervals. It represents the number of standard deviations a data point is from the mean of a distribution. In the context of confidence intervals the z-score helps determine the margin of error which defines the range within which a population parameter is likely to fall based on the sample data and a chosen confidence level."
      ],
      "metadata": {
        "id": "dUIBuWww4O6p"
      }
    },
    {
      "cell_type": "markdown",
      "source": [
        "# How are Z-scores used to compare different distributions\n",
        "Comparing Z-Scores from Different DistributionsZ-scores are used to compare different distributions by standardizing data points."
      ],
      "metadata": {
        "id": "eXHYyu644Udy"
      }
    },
    {
      "cell_type": "markdown",
      "source": [
        "# What are the assumptions for applying the Central Limit Theorem\n",
        "The Central Limit Theorem (CLT) has several key assumptions that need to be met for it to hold true. These include: random sampling independent samples a sufficiently large sample size and a finite variance of the population."
      ],
      "metadata": {
        "id": "_zGfC3Pk4YJI"
      }
    },
    {
      "cell_type": "markdown",
      "source": [
        "# What is the concept of expected value in a probability distribution\n",
        "The expected value in a probability distribution represents the average outcome of a random variable over many trials."
      ],
      "metadata": {
        "id": "YmL0PhyM4ZmX"
      }
    },
    {
      "cell_type": "markdown",
      "source": [
        "# How does a probability distribution relate to the expected outcome of a random variable?\n",
        "\n",
        "The probability distribution defines the probabilities of all possible outcomes of a random variable, and the expected outcome  is calculated by weighting each possible outcome by its probability and summing these weighted outcomes."
      ],
      "metadata": {
        "id": "hToJQ2PG4fU3"
      }
    }
  ]
}